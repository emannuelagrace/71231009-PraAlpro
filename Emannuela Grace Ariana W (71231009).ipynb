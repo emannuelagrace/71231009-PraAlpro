{
 "cells": [
  {
   "cell_type": "code",
   "execution_count": 29,
   "id": "f86eebed",
   "metadata": {},
   "outputs": [
    {
     "name": "stdout",
     "output_type": "stream",
     "text": [
      "Masukan tinggi badan anda (m): 170\n",
      "Masukan berat badan anda (kg): 60\n",
      "BMI yang anda diharapakan: 23\n",
      "Berat badan yang anda perlukan 664640.00 kg\n"
     ]
    }
   ],
   "source": [
    "tinggi = float(input(\"Masukan tinggi badan anda (m): \"))\n",
    "berat = float(input(\"Masukan berat badan anda (kg): \"))\n",
    "bmi_harapan = float(input(\"BMI yang anda diharapakan: \"))\n",
    "\n",
    "bmi = berat/tinggi**2\n",
    "bmi_harap = bmi_harapan - bmi\n",
    "butuh_berat = bmi_harap * tinggi\n",
    "\n",
    "print(\"Berat badan yang anda perlukan %.2f\"%(butuh_berat),\"kg\")"
   ]
  },
  {
   "cell_type": "code",
   "execution_count": 31,
   "id": "e3cd0997",
   "metadata": {},
   "outputs": [
    {
     "name": "stdout",
     "output_type": "stream",
     "text": [
      "Nilai x (bilangan bulat): 2\n",
      "Hasil dari f(x):  27.5\n"
     ]
    }
   ],
   "source": [
    "x = int(input(\"Nilai x (bilangan bulat): \"))\n",
    "fungsi = 2*(x**3)+2*x+15/x\n",
    "print(\"Hasil dari f(x): \", fungsi)"
   ]
  },
  {
   "cell_type": "code",
   "execution_count": 33,
   "id": "d05a5ac0",
   "metadata": {},
   "outputs": [
    {
     "name": "stdout",
     "output_type": "stream",
     "text": [
      "Masukan gaji yang anda inginkan: Rp. 10000000\n",
      "Masukan berapa jam anda ingin bekerja dalam seminggu: 36\n",
      "Pendapatan Budi: Rp.  1800000000.0\n",
      "Jumlah uang Budi setelah membayar pajak: Rp.  1548000000.0\n",
      "Pengeluaran Budi untuk pakaian dan akesesoris: Rp.  154800000.0\n",
      "Pengeluaran Budi untuk alat tulis: Rp.  1548000.0\n",
      "Uang sedekah Budi: Rp.  347913000.0\n",
      "Uang sedekah (untuk anak yatim): Rp. 104373900.0\n",
      "Uang sedekah (untuk kaum dhuafa): Rp.  243539099.99999997\n"
     ]
    }
   ],
   "source": [
    "gaji = float(input(\"Masukan gaji yang anda inginkan: Rp. \"))\n",
    "jam_kerja = float(input(\"Masukan berapa jam anda ingin bekerja dalam seminggu: \"))\n",
    "\n",
    "#jumlah uang Budi\n",
    "gaji_awal = gaji * jam_kerja * 5\n",
    "\n",
    "#pajak yang Budi terima\n",
    "pajak = 0.14\n",
    "\n",
    "#jumlah pendapatan Budi setelah terkena pajak\n",
    "gaji_pajak = gaji_awal * (1-pajak)\n",
    "\n",
    "#pemakaian uang\n",
    "uang_pakaian = 0.1 * gaji_pajak\n",
    "uang_alatTulis = 0.001 * gaji_pajak\n",
    "sedekah = 0.25 * (gaji_pajak - uang_pakaian - uang_alatTulis)\n",
    "sedekah_anakYt = 0.3 * sedekah\n",
    "sedekah_dhf = 0.7 * sedekah\n",
    "\n",
    "print(\"Pendapatan Budi: Rp. \", gaji_awal)\n",
    "print(\"Jumlah uang Budi setelah membayar pajak: Rp. \", gaji_pajak)\n",
    "print(\"Pengeluaran Budi untuk pakaian dan akesesoris: Rp. \", uang_pakaian)\n",
    "print(\"Pengeluaran Budi untuk alat tulis: Rp. \", uang_alatTulis)\n",
    "print(\"Uang sedekah Budi: Rp. \", sedekah)\n",
    "print(\"Uang sedekah (untuk anak yatim): Rp.\", sedekah_anakYt)\n",
    "print(\"Uang sedekah (untuk kaum dhuafa): Rp. \", sedekah_dhf)"
   ]
  },
  {
   "cell_type": "code",
   "execution_count": null,
   "id": "3933c5dd",
   "metadata": {},
   "outputs": [],
   "source": []
  }
 ],
 "metadata": {
  "kernelspec": {
   "display_name": "Python 3 (ipykernel)",
   "language": "python",
   "name": "python3"
  },
  "language_info": {
   "codemirror_mode": {
    "name": "ipython",
    "version": 3
   },
   "file_extension": ".py",
   "mimetype": "text/x-python",
   "name": "python",
   "nbconvert_exporter": "python",
   "pygments_lexer": "ipython3",
   "version": "3.11.5"
  }
 },
 "nbformat": 4,
 "nbformat_minor": 5
}
